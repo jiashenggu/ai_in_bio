{
 "cells": [
  {
   "cell_type": "code",
   "execution_count": 1,
   "id": "8df00e2d",
   "metadata": {},
   "outputs": [],
   "source": [
    "import json\n",
    "import gensim\n",
    "from gensim.models import Word2Vec\n",
    "import pandas as pd\n",
    "import nltk\n",
    "import re\n",
    "import glob\n",
    "from gensim.models.phrases import Phrases, Phraser\n",
    "import ahocorasick"
   ]
  },
  {
   "cell_type": "code",
   "execution_count": 5,
   "id": "e649491a",
   "metadata": {},
   "outputs": [],
   "source": [
    "with open(\"esearch.json\") as f:\n",
    "    pids = json.load(f)"
   ]
  },
  {
   "cell_type": "code",
   "execution_count": 13,
   "id": "5f1ba42b",
   "metadata": {},
   "outputs": [],
   "source": [
    "pids = pids['esearchresult']['idlist']"
   ]
  },
  {
   "cell_type": "code",
   "execution_count": 24,
   "id": "a4f0e1d1",
   "metadata": {},
   "outputs": [],
   "source": [
    "with open(\"pids_new.txt\", 'w') as f:\n",
    "    for pid in pids:\n",
    "        f.write(pid+'\\n')"
   ]
  },
  {
   "cell_type": "code",
   "execution_count": 1,
   "id": "2bb7b68e",
   "metadata": {},
   "outputs": [],
   "source": [
    "with open(\"pids_new.txt\") as f:\n",
    "    str_pids = f.readlines()\n",
    "\n",
    "pids = [int(x.strip()) for x in str_pids]"
   ]
  },
  {
   "cell_type": "code",
   "execution_count": 2,
   "id": "363e59e0",
   "metadata": {},
   "outputs": [
    {
     "data": {
      "text/plain": [
       "114439"
      ]
     },
     "execution_count": 2,
     "metadata": {},
     "output_type": "execute_result"
    }
   ],
   "source": [
    "len(pids)"
   ]
  },
  {
   "cell_type": "code",
   "execution_count": 4,
   "id": "d0c61f73",
   "metadata": {},
   "outputs": [],
   "source": [
    "\n",
    "pids = []\n",
    "flag = False\n",
    "for x in str_pids:\n",
    "    pid = int(x.strip())\n",
    "    if pid == 35079207:\n",
    "        flag = True\n",
    "    if flag:\n",
    "        pids.append(pid)\n",
    "        "
   ]
  },
  {
   "cell_type": "code",
   "execution_count": 6,
   "id": "39add81d",
   "metadata": {},
   "outputs": [
    {
     "data": {
      "text/plain": [
       "105804"
      ]
     },
     "execution_count": 6,
     "metadata": {},
     "output_type": "execute_result"
    }
   ],
   "source": [
    "len(pids)"
   ]
  },
  {
   "cell_type": "code",
   "execution_count": null,
   "id": "ae368338",
   "metadata": {},
   "outputs": [],
   "source": []
  }
 ],
 "metadata": {
  "interpreter": {
   "hash": "7a49980e4f46ac712c75e56eb20862c3967a55ddda4b6025fcd97093e959d4ae"
  },
  "kernelspec": {
   "display_name": "Python 3.8.13 ('ai_in_bio': conda)",
   "language": "python",
   "name": "python3"
  },
  "language_info": {
   "codemirror_mode": {
    "name": "ipython",
    "version": 3
   },
   "file_extension": ".py",
   "mimetype": "text/x-python",
   "name": "python",
   "nbconvert_exporter": "python",
   "pygments_lexer": "ipython3",
   "version": "3.8.13"
  }
 },
 "nbformat": 4,
 "nbformat_minor": 5
}
