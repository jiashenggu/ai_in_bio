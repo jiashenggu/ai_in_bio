{
 "cells": [
  {
   "cell_type": "code",
   "execution_count": 80,
   "metadata": {},
   "outputs": [],
   "source": [
    "import pandas as pd\n",
    "import json\n",
    "import gensim\n",
    "from gensim.models import Word2Vec\n",
    "import pandas as pd\n",
    "import nltk\n",
    "import re\n",
    "import glob\n",
    "from gensim.models.phrases import Phrases, Phraser\n",
    "import ahocorasick\n"
   ]
  },
  {
   "cell_type": "code",
   "execution_count": 81,
   "metadata": {},
   "outputs": [],
   "source": [
    "df1 = pd.read_csv('/home/jiasheng/ai_in_bio/papers_new.csv')\n",
    "df2 = pd.read_csv('/home/jiasheng/ai_in_bio/papers_new_1.csv')\n",
    "# df3 = pd.read_csv('/home/jiasheng/ai_in_bio/papers_new_1.csv', skiprows=93920)\n",
    "frames = [df1, df2]\n",
    "all_csv = pd.concat(frames, axis=0)\n",
    "all_csv.to_csv('/home/jiasheng/ai_in_bio/papers_2022.csv', index=None)"
   ]
  },
  {
   "cell_type": "code",
   "execution_count": null,
   "metadata": {},
   "outputs": [],
   "source": [
    "model = Word2Vec(vector_size=300,  min_count=1, window=5)\n",
    "model.epochs"
   ]
  }
 ],
 "metadata": {
  "interpreter": {
   "hash": "7a49980e4f46ac712c75e56eb20862c3967a55ddda4b6025fcd97093e959d4ae"
  },
  "kernelspec": {
   "display_name": "Python 3.8.13 ('ai_in_bio': conda)",
   "language": "python",
   "name": "python3"
  },
  "language_info": {
   "codemirror_mode": {
    "name": "ipython",
    "version": 3
   },
   "file_extension": ".py",
   "mimetype": "text/x-python",
   "name": "python",
   "nbconvert_exporter": "python",
   "pygments_lexer": "ipython3",
   "version": "3.8.13"
  },
  "orig_nbformat": 4
 },
 "nbformat": 4,
 "nbformat_minor": 2
}
